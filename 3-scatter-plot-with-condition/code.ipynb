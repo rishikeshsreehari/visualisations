{
 "cells": [
  {
   "cell_type": "code",
   "execution_count": 11,
   "id": "2667128e",
   "metadata": {},
   "outputs": [],
   "source": [
    "import pandas as pd\n",
    "import numpy as np\n",
    "import plotly.graph_objects as go"
   ]
  },
  {
   "cell_type": "code",
   "execution_count": null,
   "id": "6dc414f6",
   "metadata": {},
   "outputs": [],
   "source": [
    "econ_agri = pd.read_excel('all plots plotly.xlsx',sheet_name='econ_agri',index_col=0)\n",
    "econ_agri"
   ]
  },
  {
   "cell_type": "code",
   "execution_count": null,
   "id": "aa3fe0f5",
   "metadata": {},
   "outputs": [],
   "source": [
    "#Code for line graph\n",
    "\n",
    "fig = go.Figure()\n",
    "\n",
    "fig.add_trace(go.Scatter(x=econ_agri.index, y=econ_agri['Baseline'],\n",
    "                    mode='lines+markers',\n",
    "                    name='Baseline'))\n",
    "\n",
    "fig.add_trace(go.Scatter(x=econ_agri.index, y=econ_agri['High Growth'],\n",
    "                    mode='lines+markers',\n",
    "                    name='High Growth'))\n",
    "fig.update_xaxes(tickangle=90)\n",
    "fig.update_layout(template='seaborn', xaxis_title='',\n",
    "                   yaxis_title='TWh')\n",
    "\n",
    "fig.show()"
   ]
  },
  {
   "cell_type": "code",
   "execution_count": null,
   "id": "6e233a4c",
   "metadata": {},
   "outputs": [],
   "source": [
    "scatter_data = pd.read_excel('all plots plotly.xlsx',sheet_name='scatter_ei',index_col=0)\n",
    "scatter_data"
   ]
  },
  {
   "cell_type": "code",
   "execution_count": null,
   "id": "0400ef4b",
   "metadata": {},
   "outputs": [],
   "source": [
    "#Adding condition for conditional formatting\n",
    "scatter_data['color'] = np.where(scatter_data['ei_30']>scatter_data['ei_15'], 'green', 'red')"
   ]
  },
  {
   "cell_type": "code",
   "execution_count": 79,
   "id": "ce01d5df",
   "metadata": {},
   "outputs": [],
   "source": [
    "#Dictionary mapping for labelling\n",
    "\n",
    "state_reg_dict = {'Telangana':'TS', 'Andhra Pradesh':'AP',\n",
    "           'Arunanchal Pradesh':'Ar', 'Assam':'AS', 'Bihar':'BR', 'Chhattisgarh':'CG',\n",
    "           'Daman & Diu':'DD', 'Goa':'GA', 'Gujarat':'GJ', 'Haryana':'HR', 'Himachal Pradesh':'HP',\n",
    "           'Jammu and Kashmir':'JK', 'Jharkhand':'JH', 'Karnataka':'KA', 'Kerala':'KL',\n",
    "           'Madhya Pradesh':'MP', 'Maharashtra':'MH', 'Manipur':'MN',\n",
    "           'Chandigarh':'CG', 'Puducherry':'PY', 'Punjab':'PB', 'Rajasthan':'RJ', 'Sikkim':'SK',\n",
    "           'Tamil Nadu':'TN', 'Tripura':'TR', 'Uttar Pradesh':'UP', 'Uttarakhand':'UK',\n",
    "           'West Bengal':'WB', 'Odisha':'OD', 'Dadara & Nagar Havelli':'DN', 'Meghalaya':'ML',\n",
    "           'Mizoram':'MZ', 'Nagaland':'NL', 'Delhi':'DL'}\n",
    "\n",
    "scatter_data['Alias'] = scatter_data.index.map(state_reg_dict)\n",
    "\n",
    "scatter_data"
   ]
  },
  {
   "cell_type": "code",
   "execution_count": null,
   "id": "9ebc90f4",
   "metadata": {},
   "outputs": [],
   "source": [
    "# Scatter plot code\n",
    "fig = px.scatter(scatter_data, x=scatter_data['ei_15'], y=scatter_data['ei_30'],color=scatter_data['color'],text=scatter_data['Alias'])\n",
    "fig.update_traces(textposition='middle left')\n",
    "fig.update_layout(xaxis_title=\"Electricity Intensity(2029-30)\",yaxis_title=\"Electricity Intensity(2015-16)\", template='plotly_white',showlegend=False)\n",
    "fig.update_xaxes(range=[0,6])\n",
    "fig.update_yaxes(range=[0,6])\n",
    "\n",
    "def improve_text_position(x):   #Function to adjust text label\n",
    "    positions = ['top center','top right','bottom right','bottom center',]  \n",
    "    return [positions[i % len(positions)] for i in range(len(x))]\n",
    "\n",
    "fig.update_traces(textposition=improve_text_position(scatter_data['Alias']))\n",
    "\n",
    "fig.show()"
   ]
  }
 ],
 "metadata": {
  "kernelspec": {
   "display_name": "base",
   "language": "python",
   "name": "python3"
  },
  "language_info": {
   "codemirror_mode": {
    "name": "ipython",
    "version": 3
   },
   "file_extension": ".py",
   "mimetype": "text/x-python",
   "name": "python",
   "nbconvert_exporter": "python",
   "pygments_lexer": "ipython3",
   "version": "3.9.13"
  },
  "varInspector": {
   "cols": {
    "lenName": 16,
    "lenType": 16,
    "lenVar": 40
   },
   "kernels_config": {
    "python": {
     "delete_cmd_postfix": "",
     "delete_cmd_prefix": "del ",
     "library": "var_list.py",
     "varRefreshCmd": "print(var_dic_list())"
    },
    "r": {
     "delete_cmd_postfix": ") ",
     "delete_cmd_prefix": "rm(",
     "library": "var_list.r",
     "varRefreshCmd": "cat(var_dic_list()) "
    }
   },
   "types_to_exclude": [
    "module",
    "function",
    "builtin_function_or_method",
    "instance",
    "_Feature"
   ],
   "window_display": false
  },
  "vscode": {
   "interpreter": {
    "hash": "2043299c89c8cd0b4d1a6f5cf4529bd58e6a4e0fe3181a25e0d328c821cdc5c5"
   }
  }
 },
 "nbformat": 4,
 "nbformat_minor": 5
}
